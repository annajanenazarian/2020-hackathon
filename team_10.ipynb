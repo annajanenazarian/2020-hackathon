{
 "cells": [
  {
   "cell_type": "code",
   "execution_count": 199,
   "metadata": {},
   "outputs": [],
   "source": [
    "import numpy as np\n",
    "import pandas as pd\n",
    "import sklearn\n",
    "from sklearn import preprocessing\n",
    "from sklearn.preprocessing import StandardScaler\n",
    "from sklearn.preprocessing import LabelEncoder\n",
    "from sklearn.preprocessing import PolynomialFeatures\n",
    "from sklearn.pipeline import make_pipeline\n",
    "from sklearn.linear_model import LinearRegression\n",
    "from sklearn.metrics import mean_squared_error\n",
    "from sklearn.model_selection import KFold\n",
    "from sklearn.metrics import f1_score"
   ]
  },
  {
   "cell_type": "code",
   "execution_count": 200,
   "metadata": {},
   "outputs": [],
   "source": [
    "raw_data = pd.read_csv('train.csv')\n",
    "raw_data = raw_data[['Item_Weight', 'Item_Visibility', 'Item_MRP', 'Outlet_Establishment_Year', 'Item_Outlet_Sales']]\n",
    "raw_data = raw_data.dropna(how = 'any')"
   ]
  },
  {
   "cell_type": "code",
   "execution_count": 202,
   "metadata": {},
   "outputs": [],
   "source": [
    "columns = len(raw_data.columns)\n",
    "data = raw_data[raw_data.columns.values]"
   ]
  },
  {
   "cell_type": "code",
   "execution_count": 206,
   "metadata": {},
   "outputs": [],
   "source": [
    "#extracting features and labels\n",
    "featurecolumns = data.columns.values[:columns-1]\n",
    "labelcolumn = data.columns.values[columns-1]\n",
    "features = np.array(data[featurecolumns])\n",
    "labels = np.array(data[labelcolumn])"
   ]
  },
  {
   "cell_type": "code",
   "execution_count": 209,
   "metadata": {},
   "outputs": [
    {
     "name": "stdout",
     "output_type": "stream",
     "text": [
      "Mean Squared Error: 3111112.4914023536 \n"
     ]
    }
   ],
   "source": [
    "kf = KFold(n_splits=10, random_state=None) \n",
    "\n",
    "MSError = 0\n",
    "\n",
    "scaler = preprocessing.StandardScaler()\n",
    "reg = make_pipeline(PolynomialFeatures(9), scaler, LinearRegression())\n",
    "\n",
    "for train_index, test_index in kf.split(features):\n",
    "    X_train, X_test = features[train_index], features[test_index] \n",
    "    y_train, y_test = labels[train_index], labels[test_index]\n",
    "\n",
    "\n",
    "    reg.fit(X_train, y_train)\n",
    "    predictedTrain= reg.predict(X_train)\n",
    "    predictedTest= reg.predict(X_test)\n",
    "    \n",
    "    # The mean squared error\n",
    "    MSError += mean_squared_error(y_test, predictedTest)\n",
    "    \n",
    "print('Mean Squared Error: {} '.format(MSError / 10))    "
   ]
  },
  {
   "cell_type": "code",
   "execution_count": 228,
   "metadata": {},
   "outputs": [],
   "source": [
    "raw_data = pd.read_csv('test_no_labels.csv')\n",
    "raw_data = raw_data[['Item_Fat_Content', 'Item_Type', 'Outlet_Identifier', 'Outlet_Size']]\n",
    "raw_data = raw_data.dropna(how = 'any')"
   ]
  },
  {
   "cell_type": "code",
   "execution_count": 229,
   "metadata": {},
   "outputs": [],
   "source": [
    "columns = len(raw_data.columns)\n",
    "data = raw_data[raw_data.columns.values]"
   ]
  },
  {
   "cell_type": "code",
   "execution_count": 230,
   "metadata": {},
   "outputs": [],
   "source": [
    "#extracting features and labels\n",
    "featurecolumns = data.columns.values[:columns]\n",
    "features = np.array(data[featurecolumns])"
   ]
  },
  {
   "cell_type": "code",
   "execution_count": 232,
   "metadata": {},
   "outputs": [],
   "source": [
    "predicted = reg.predict(features)"
   ]
  },
  {
   "cell_type": "code",
   "execution_count": null,
   "metadata": {},
   "outputs": [],
   "source": [
    "predicted = pd.DataFrame(predicted, columns=['predictions']).to_csv('prediction.csv')"
   ]
  }
 ],
 "metadata": {
  "kernelspec": {
   "display_name": "Python 3",
   "language": "python",
   "name": "python3"
  },
  "language_info": {
   "codemirror_mode": {
    "name": "ipython",
    "version": 3
   },
   "file_extension": ".py",
   "mimetype": "text/x-python",
   "name": "python",
   "nbconvert_exporter": "python",
   "pygments_lexer": "ipython3",
   "version": "3.7.3"
  }
 },
 "nbformat": 4,
 "nbformat_minor": 2
}
